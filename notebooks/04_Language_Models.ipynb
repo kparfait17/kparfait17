{
  "cells": [
    {
      "cell_type": "markdown",
      "source": [
        "![Tulane](https://github.com/tulane-cmps6730/main/blob/main/img/banner.png?raw=true)\n",
        "\n",
        "<center>\n",
        "\n",
        "<font size=\"+3\">Language Models</font>\n",
        "\n",
        "[Aron Culotta](https://cs.tulane.edu/~aculotta/)  \n",
        "[Tulane University](https://cs.tulane.edu/)\n",
        "\n",
        "<a href=\"http://colab.research.google.com/github/tulane-cmps6730/main/blob/main/notebooks/04_Language_Modles.ipynb\">\n",
        "        <img src=\"https://upload.wikimedia.org/wikipedia/commons/thumb/d/d0/Google_Colaboratory_SVG_Logo.svg/320px-Google_Colaboratory_SVG_Logo.svg.png\"  width=10%/></a>\n",
        "<a href=\"https://github.com/tulane-cmps6730/main/tree/main\">\n",
        "        <img src=\"https://upload.wikimedia.org/wikipedia/commons/thumb/c/c2/GitHub_Invertocat_Logo.svg/240px-GitHub_Invertocat_Logo.svg.png\" width=6%/></a>\n",
        "\n",
        "In this module, we'll learn about ways to model language as a sequence of tokens.\n",
        "\n",
        "</center>"
      ],
      "metadata": {
        "id": "nMb6dEMiCzsn"
      }
    },
    {
      "cell_type": "markdown",
      "source": [
        "<hr size=10 color=#285C4D>\n",
        "\n",
        "## Motivation"
      ],
      "metadata": {
        "id": "UVHR1CIAEAXH"
      }
    },
    {
      "cell_type": "markdown",
      "source": [
        "**Previously**\n",
        "\n",
        "- Overview of text classification and machine learning\n",
        "\n",
        "**This week**\n",
        "- How do we score one sentence as more likely than another?\n",
        "- Will use some probability:\n",
        "  - $P($\"I'm sorry Dave\"$) > P($ \"Sorry Dave I'm\" $)$\n",
        "- How can we model the probability of a sentence?\n",
        "\n",
        "<br><br><br>"
      ],
      "metadata": {
        "id": "bKSAYyETJ1xH"
      }
    },
    {
      "cell_type": "markdown",
      "metadata": {
        "id": "Z25MU8qOCzsr"
      },
      "source": [
        "\n",
        "- Why is it important to be able to score the probability of sentences?\n",
        "\n",
        "<br><br><br><br>\n",
        "\n",
        "Example: **Predictive text**\n",
        "\n",
        "![figs/predict.png](https://github.com/tulane-cmps6730/main/blob/main/lec/language_models/figs/predict.png?raw=1)\n",
        "\n",
        "![figs/unicorn.jpg](https://github.com/tulane-cmps6730/main/blob/main/lec/language_models/figs/unicorn.jpg?raw=1)\n",
        "\n",
        "![figs/now.jpg](https://github.com/tulane-cmps6730/main/blob/main/lec/language_models/figs/now.jpg?raw=1)\n",
        "\n",
        "\n",
        "<br><br><br>\n",
        "\n",
        "**Many other applications:**\n",
        "\n",
        "\n",
        "- Machine translation\n",
        "\n",
        "![tranl](https://github.com/tulane-cmps6730/main/blob/main/lec/language_models/figs/tranl.png?raw=1)\n",
        "\n",
        "> $P($ \"he briefed reporters on the main contents of the statement\" $) $ $ > $  \n",
        "> $P($ \"he briefed to reporters the main contents of the statement\" $)$\n",
        "\n",
        "<br><br><br>\n",
        "\n",
        "- Speech recognition\n",
        "\n",
        "> $P($ \"I am hungry\" $) $ $ > P($ \"Eye am hungry\" $)$\n",
        "\n",
        "<br><br><br>\n",
        "\n",
        "- Language generation\n",
        "\n",
        "![kingcake](https://github.com/tulane-cmps6730/main/blob/main/lec/language_models/figs/kingcake.png?raw=1)\n",
        "\n",
        "<br><br><br>\n",
        "\n",
        "**More generally:**\n",
        "\n",
        "- Due to the prevalence of ambiguity, we need a way to rank probable interpretations of a sentence\n",
        "- In the future, we'll look at probability of parses\n",
        "- Today, we'll start with a simpler task\n",
        "  - The probability of a sentence (word sequence).\n",
        "\n",
        "<br><br><br>"
      ]
    },
    {
      "cell_type": "markdown",
      "source": [
        "<hr size=10 color=#285C4D>\n",
        "\n",
        "## Probability of a sentence"
      ],
      "metadata": {
        "id": "eZ1Lj8DLEK0Z"
      }
    },
    {
      "cell_type": "markdown",
      "metadata": {
        "id": "8U3J0txaCzss"
      },
      "source": [
        "$p(w_1 \\ldots w_m)=$?\n",
        "\n",
        "E.g., $p($\"Sam I am.$\")=?$\n",
        "\n",
        "\n",
        "Given a large sample of sentences $D$, how can we estimate the probability of one particular sentence?\n",
        "\n",
        "<br><br>\n",
        "**Analogy**: Given a sample of $n$ people, how do we estimate $p($ brown eyes $)$?\n",
        "\n",
        "<br><br>\n",
        "$p($ brown eyes $)= \\#($brown eyes$) $ $ / $ $n$  \n",
        "= \"the fraction of all people that have brown eyes\"\n",
        "\n",
        "\n",
        "<br>\n",
        "So, returning to the above,\n",
        "\n",
        "$p($Sam I am.$)=$ the fraction of all sentences that equal \"Sam I am.\"\n",
        "\n",
        "**Why is this a bad idea?**\n",
        "\n",
        "<br><br><br><br>\n",
        "Most sentences occur only once.  \n",
        "$p(w_1 \\ldots w_m) \\approx \\frac{1}{n}$\n",
        "\n",
        "Any sentence not in $D$ will have probability 0.\n",
        "\n",
        "Instead, to make estimating these probabilities possible, we need to make assumptions. E.g.,\n",
        "\n"
      ]
    },
    {
      "cell_type": "markdown",
      "source": [
        "### Independence Assumption"
      ],
      "metadata": {
        "id": "TIYyIHPQEVgG"
      }
    },
    {
      "cell_type": "markdown",
      "source": [
        "Recall from probability: if $A$ and $B$ are independent events, then $P(A,B) = P(A) * P(B)$\n",
        "- E.g., P(\"It will rain tomorrow in Chicago\" AND \" My knee hurts today\") =  \n",
        "P(\"It will rain tomorrow in Chicago\") * P(\"My knee hurts today\")\n",
        "\n",
        "If we assume that each word in a sentence is an independent event then:\n",
        "\n",
        "$p(w_1 \\ldots w_m) \\approx p(w_1) * p(w_2) * \\ldots p(w_m)$\n",
        "\n",
        "(Decompose the joint probability of the words in a sentence into the product of individual word probabilities.)\n",
        "\n",
        "\n",
        "\n",
        "This is a bad assumption: **why?**\n",
        "<br><br><br><br>\n",
        "- \"San Francisco\", \"love you\", ...\n",
        "\n",
        "- we will return to this problem later today\n",
        "\n",
        "But first: how do we estimate the probability of a single word $p(w_i)$ given a dataset $D$?\n",
        "<br><br><br><br>"
      ],
      "metadata": {
        "id": "perOJFB6EUMr"
      }
    },
    {
      "cell_type": "markdown",
      "source": [
        "<hr size=10 color=#285C4D>\n",
        "\n",
        "\n",
        "## Estimating unigram probabilities\n"
      ],
      "metadata": {
        "id": "i__QoJJkEegf"
      }
    },
    {
      "cell_type": "markdown",
      "metadata": {
        "id": "KJ9Tnrp9Czss"
      },
      "source": [
        "\n",
        "**unigram:** a single word; or, a phrase of length 1.\n",
        "\n",
        "To estimate unigram probability from some dataset of text, just count the word frequency:\n",
        "\n",
        "$$ p(w_i) = \\frac{C(w_i)}{T} $$\n",
        "\n",
        "- $C(w_i)=$ number of times word $w_i$ appears in data\n",
        "- $T=$ number of tokens in data\n",
        "\n",
        "Recall definition of probability:\n",
        "- $0 \\le p(w_i) \\le 1$ $ \\forall i$\n",
        "- $\\sum_i p(w_i) = 1$\n",
        "\n",
        "This is an example of a **<font color=\"blue\">multinomial distribution</font>**:\n",
        "- A distribution over $n$ discrete events\n",
        "- In each trial, only one event can occur.\n",
        "- E.g., roll of an $n$-sided die.\n",
        "- Imagine a giant die with a word on each face. Each word is weighted by its probability. We can sample words by rolling the die.\n",
        "\n",
        "<br>\n",
        "\n",
        "```\n",
        "<s> I am Sam </s>  \n",
        "<s> Sam I am </s>  \n",
        "<s> I do not like green eggs and ham </s>\n",
        "```\n",
        "\n",
        "- $p($I$)$ $ = \\frac{3}{20} = 0.15$\n",
        "- $p($Sam$)$ $ = \\frac{2}{20} = 0.1$\n",
        "- ..."
      ]
    },
    {
      "cell_type": "markdown",
      "source": [
        "### Unigram implementation"
      ],
      "metadata": {
        "id": "oWo1rmtgEoaI"
      }
    },
    {
      "cell_type": "code",
      "execution_count": 2,
      "metadata": {
        "id": "uspwmnRTCzst",
        "outputId": "693fb3a0-7374-4e91-a623-00deccb9df7c",
        "colab": {
          "base_uri": "https://localhost:8080/"
        }
      },
      "outputs": [
        {
          "output_type": "execute_result",
          "data": {
            "text/plain": [
              "Counter({'a': 3, 'b': 2, 'c': 1})"
            ]
          },
          "metadata": {},
          "execution_count": 2
        }
      ],
      "source": [
        "# common imports\n",
        "import matplotlib.pyplot as plt\n",
        "import numpy as np\n",
        "from numpy import array as npa\n",
        "import pandas as pd\n",
        "# Counter: an enhanced dict for counting\n",
        "# https://docs.python.org/3/library/collections.html\n",
        "from collections import Counter\n",
        "\n",
        "d = Counter()\n",
        "d.update(['a', 'b', 'c'])\n",
        "d.update(['a', 'a', 'b'])\n",
        "d"
      ]
    },
    {
      "cell_type": "code",
      "execution_count": 3,
      "metadata": {
        "id": "67JDqSnbCzst",
        "outputId": "2858f1df-1b41-4903-cab6-c3aacd87c930",
        "colab": {
          "base_uri": "https://localhost:8080/"
        }
      },
      "outputs": [
        {
          "output_type": "stream",
          "name": "stdout",
          "text": [
            "counts= Counter({'<s>': 3, 'I': 3, '</s>': 3, 'am': 2, 'Sam': 2, 'do': 1, 'not': 1, 'like': 1, 'green': 1, 'eggs': 1, 'and': 1, 'ham': 1})\n"
          ]
        },
        {
          "output_type": "execute_result",
          "data": {
            "text/plain": [
              "[('<s>', 0.15),\n",
              " ('I', 0.15),\n",
              " ('</s>', 0.15),\n",
              " ('am', 0.1),\n",
              " ('Sam', 0.1),\n",
              " ('do', 0.05),\n",
              " ('not', 0.05),\n",
              " ('like', 0.05),\n",
              " ('green', 0.05),\n",
              " ('eggs', 0.05),\n",
              " ('and', 0.05),\n",
              " ('ham', 0.05)]"
            ]
          },
          "metadata": {},
          "execution_count": 3
        }
      ],
      "source": [
        "# Example of estimating unigram probabilities from a set of documents.\n",
        "\n",
        "docs = ['<s> I am Sam </s>',\n",
        "        '<s> Sam I am </s>',\n",
        "        '<s> I do not like green eggs and ham </s>']\n",
        "\n",
        "def estimate_unigram_probs(docs):\n",
        "    \"\"\"\n",
        "    Compute p(w), the probability of each unigram in this data.\n",
        "    p(w) = count(w) / total_num_tokens\n",
        "    \"\"\"\n",
        "    counts = Counter()\n",
        "    for doc in docs:\n",
        "        tokens = doc.split()   # split sentence into words using spaces\n",
        "        counts.update(tokens)  # increments counts for all items in tokens\n",
        "    print('counts=', counts)   # for debugging\n",
        "    # Normalize so probabilities sum to 1.\n",
        "    total_tokens = sum(counts.values())\n",
        "    return {token: value / total_tokens for\n",
        "                                        token, value in counts.items()}\n",
        "\n",
        "unigram_probs = estimate_unigram_probs(docs)\n",
        "# print in descending order.\n",
        "sorted(unigram_probs.items(), key=lambda x: x[1], reverse=True)"
      ]
    },
    {
      "cell_type": "markdown",
      "source": [
        "<hr size=10 color=#285C4D>\n",
        "\n",
        "## Probability of a sentence using unigram probabilities\n"
      ],
      "metadata": {
        "id": "H2TcK45lE4rS"
      }
    },
    {
      "cell_type": "markdown",
      "metadata": {
        "id": "x10MeOzZCzsu"
      },
      "source": [
        "\n",
        "Once we've estimated unigram probabilities, we can now compute the probability of a new sentence with $m$ words by the product of its unigram probabilities.\n",
        "\n",
        "$p(w_1 \\ldots w_m) \\approx p(w_1) * p(w_2) * \\ldots p(w_m)$\n",
        "\n",
        "(True because of our earlier independence assumption.)"
      ]
    },
    {
      "cell_type": "code",
      "execution_count": 4,
      "metadata": {
        "id": "KJE6TRgWCzsu",
        "outputId": "d1255e0b-d04b-4426-a104-026dfb82df02",
        "colab": {
          "base_uri": "https://localhost:8080/"
        }
      },
      "outputs": [
        {
          "output_type": "execute_result",
          "data": {
            "text/plain": [
              "0.0015"
            ]
          },
          "metadata": {},
          "execution_count": 4
        }
      ],
      "source": [
        "def sentence_probability(unigrams, sentence):\n",
        "    proba = 1\n",
        "    for word in sentence:\n",
        "        proba *= unigrams[word]\n",
        "    return proba\n",
        "\n",
        "sentence_probability(unigram_probs, ['I', 'Sam', 'am'])"
      ]
    },
    {
      "cell_type": "code",
      "execution_count": 5,
      "metadata": {
        "id": "hUUCpQxCCzsv",
        "outputId": "a978d4fd-f2cf-45f3-ea83-0e19388a221f",
        "colab": {
          "base_uri": "https://localhost:8080/"
        }
      },
      "outputs": [
        {
          "output_type": "execute_result",
          "data": {
            "text/plain": [
              "0.00225"
            ]
          },
          "metadata": {},
          "execution_count": 5
        }
      ],
      "source": [
        "sentence_probability(unigram_probs, ['Sam', 'I', 'I'])"
      ]
    },
    {
      "cell_type": "markdown",
      "metadata": {
        "id": "vDxHufGmCzsw"
      },
      "source": [
        "### What happens for very long sentences?"
      ]
    },
    {
      "cell_type": "code",
      "execution_count": 6,
      "metadata": {
        "id": "8u_CtNbOCzsw",
        "outputId": "f04b7b86-fd46-4d31-dd78-af1b0fd85ff4",
        "colab": {
          "base_uri": "https://localhost:8080/"
        }
      },
      "outputs": [
        {
          "output_type": "execute_result",
          "data": {
            "text/plain": [
              "0.0"
            ]
          },
          "metadata": {},
          "execution_count": 6
        }
      ],
      "source": [
        "# A sentence with 1000 Sams\n",
        "sentence_probability(unigram_probs, ['Sam'] * 1000)"
      ]
    },
    {
      "cell_type": "markdown",
      "source": [
        "### To avoid underflow, use log probabilities\n"
      ],
      "metadata": {
        "id": "44k57eYXFHpq"
      }
    },
    {
      "cell_type": "markdown",
      "metadata": {
        "id": "lxVf-PODCzsw"
      },
      "source": [
        "\n",
        "\n",
        "$$p(w_1 \\ldots w_m) = p(w_1) * p(w_2) * \\ldots p(w_m) = \\prod_{i=1}^m p(w_i)$$\n",
        "\n",
        "$$\\log p(w_1 \\ldots w_m) = \\log \\left(p(w_1) * p(w_2) * \\ldots p(w_m)\\right) = \\sum_{i=1}^m \\log p(w_i)$$\n",
        "\n",
        "Product of probabilities become sum of log probabilities.\n",
        "\n"
      ]
    },
    {
      "cell_type": "code",
      "execution_count": 7,
      "metadata": {
        "id": "LQgONaPfCzsx",
        "outputId": "08efbed2-1dc9-42b4-9423-6729b1b7d99e",
        "colab": {
          "base_uri": "https://localhost:8080/"
        }
      },
      "outputs": [
        {
          "output_type": "execute_result",
          "data": {
            "text/plain": [
              "-2.8239087409443187"
            ]
          },
          "metadata": {},
          "execution_count": 7
        }
      ],
      "source": [
        "import math\n",
        "def sentence_log_probability(unigrams, sentence):\n",
        "    proba = 0\n",
        "    for word in sentence:\n",
        "        proba += math.log10(unigrams[word])\n",
        "    return proba\n",
        "\n",
        "sentence_log_probability(unigram_probs, ['Sam', 'am', 'I'])"
      ]
    },
    {
      "cell_type": "code",
      "execution_count": 8,
      "metadata": {
        "id": "ZNLP7ORZCzsx",
        "outputId": "66f6abbb-ba2b-41db-f2e7-3a5b27d6a620",
        "colab": {
          "base_uri": "https://localhost:8080/",
          "height": 449
        }
      },
      "outputs": [
        {
          "output_type": "display_data",
          "data": {
            "text/plain": [
              "<Figure size 640x480 with 1 Axes>"
            ],
            "image/png": "[encoded data removed]"
          },
          "metadata": {}
        }
      ],
      "source": [
        "probas = (np.arange(100)+1)/100\n",
        "plt.figure()\n",
        "plt.plot(probas, np.log10(probas), 'b.')\n",
        "plt.xlabel('probability')\n",
        "plt.ylabel('log probability')\n",
        "plt.show()"
      ]
    },
    {
      "cell_type": "markdown",
      "source": [
        "**So, small probabilities result in large negative numbers**"
      ],
      "metadata": {
        "id": "e1DBRC8ECzsx"
      }
    },
    {
      "cell_type": "markdown",
      "source": [
        "<hr size=10 color=#285C4D>\n",
        "\n",
        "## N-gram Language Models\n"
      ],
      "metadata": {
        "id": "tVyFe8ocFcXE"
      }
    },
    {
      "cell_type": "markdown",
      "metadata": {
        "id": "9qSg77o6Czsy"
      },
      "source": [
        "\n",
        "$p(w_1 \\ldots w_m) \\approx p(w_1) * p(w_2) * \\ldots p(w_m)$\n",
        "\n",
        "\n",
        "Why is this a bad assumption?\n",
        "\n",
        "<br><br><br>\n",
        "Ignores all structure of language\n"
      ]
    },
    {
      "cell_type": "code",
      "execution_count": 9,
      "metadata": {
        "id": "Lhl16LU7Czsy",
        "outputId": "5be7b1f6-77be-45bc-d875-2320dbd70c9c",
        "colab": {
          "base_uri": "https://localhost:8080/"
        }
      },
      "outputs": [
        {
          "output_type": "execute_result",
          "data": {
            "text/plain": [
              "True"
            ]
          },
          "metadata": {},
          "execution_count": 9
        }
      ],
      "source": [
        "## e.g., cannot tell that the first sentence is more likely than the second.\n",
        "sentence_log_probability(unigram_probs, ['Sam', 'I', 'am']) == \\\n",
        "sentence_log_probability(unigram_probs, ['Sam', 'Sam', 'I'])"
      ]
    },
    {
      "cell_type": "markdown",
      "metadata": {
        "id": "gEkxRKp2Czsy"
      },
      "source": [
        "Really, we'd like a rich syntactic/semantic representation with probabilities assigned.  \n",
        "\n",
        "\n",
        "We'll get to more complex representations in the future, but for now, we can do better by at least modeling **n-grams**, instead of just unigrams."
      ]
    },
    {
      "cell_type": "markdown",
      "source": [
        "### Markov assumption"
      ],
      "metadata": {
        "id": "6vquS4VOFrPv"
      }
    },
    {
      "cell_type": "markdown",
      "metadata": {
        "id": "Mfl5nxrKCzsz"
      },
      "source": [
        "What is the probability of the $i$th word in a sentence, given all the previous words?\n",
        "$$ p(w_i  | w_1 w_2 \\ldots w_{i-1})?$$\n",
        "\n",
        "We will make an assumption that the $i$th word depends only on the previous $n$ words (**Markov** assumption):\n",
        "\n",
        "$$ p(w_i | w_1 w_2 \\ldots w_{i-1}) \\approx p(w_i | w_{i-1} w_{i-2} \\ldots w_{i-n}) $$\n",
        "\n",
        "e.g., 4-grams:\n",
        "\n",
        "$p($ \"flu\" $ | $ \"He is sick with the\" $ ) $ $\\approx p($\"flu\"$ | $ \"sick with the\" $)$\n",
        "\n",
        "$$ p(w_i | w_{i-1} w_{i-2} \\ldots w_{i-n}) = \\frac{C(w_{i-n}, \\ldots, w_{i-2} w_{i-1} w_i)}{C(w_{i-n} \\ldots w_{i-2} w_{i-1})} $$\n",
        "\n",
        "<br>\n",
        "Can estimate from data. E.g., search engines:\n",
        "\n",
        "= Num hits for [\"sick with the flu\"](https://www.google.com/search?q=%22i+am+sick+with+the+flu%22) / Num hits for [\"sick with the\"](https://www.google.com/search?q=%22i+am+sick+with+the%22)  \n",
        "$ \\approx 18,600 / 82,500 \\approx 0.23$\n",
        "\n",
        "<br><br>\n",
        "See also [Google's NGram corpus](https://books.google.com/ngrams/graph?content=sick+with+the+flu+%2F+sick+with+the&year_start=1800&year_end=2000&corpus=15&smoothing=3&share=&direct_url=t1%3B%2C%28sick%20with%20the%20flu%20/%20sick%20with%20the%29%3B%2Cc0)\n",
        "- Ngram statistics extracted from millions of books.\n",
        "\n",
        "\n"
      ]
    },
    {
      "cell_type": "markdown",
      "source": [
        "### N-gram model implementation"
      ],
      "metadata": {
        "id": "IeJKMCGKF5WU"
      }
    },
    {
      "cell_type": "markdown",
      "source": [
        "\n",
        "Let's start with a simpler example:\n",
        "\n",
        "\n",
        "```\n",
        "<s> I am Sam </s>  \n",
        "<s> Sam I am </s>  \n",
        "<s> I do not like green eggs and ham <s>\n",
        "```"
      ],
      "metadata": {
        "id": "Kep0uQEPF3FA"
      }
    },
    {
      "cell_type": "code",
      "execution_count": 10,
      "metadata": {
        "id": "OtfnfhcICzsz",
        "outputId": "7e110771-9d61-4d20-a13d-2f767a34ea20",
        "colab": {
          "base_uri": "https://localhost:8080/"
        }
      },
      "outputs": [
        {
          "output_type": "execute_result",
          "data": {
            "text/plain": [
              "[['<s>', 'hi', 'there'],\n",
              " ['hi', 'there', 'how'],\n",
              " ['there', 'how', 'are'],\n",
              " ['how', 'are', 'you'],\n",
              " ['are', 'you', '</s>']]"
            ]
          },
          "metadata": {},
          "execution_count": 10
        }
      ],
      "source": [
        "def iter_ngrams(doc, n):\n",
        "    \"\"\"Return a generator over ngrams of a document.\n",
        "    Params:\n",
        "      doc...list of tokens\n",
        "      n.....size of ngrams\"\"\"\n",
        "    return (doc[i : i+n] for i in range(len(doc)-n+1))\n",
        "\n",
        "[ngram for ngram in\n",
        "           iter_ngrams(['<s>', 'hi', 'there', 'how', 'are', 'you', '</s>'], 3)]"
      ]
    },
    {
      "cell_type": "markdown",
      "metadata": {
        "id": "-RegH3vnCzs0"
      },
      "source": [
        "<br><br><br><br>\n",
        "\n",
        "**Implementation idea**: store ngram counts as a dict where\n",
        "- key is an ngram (a tuple of strings)\n",
        "- value is a Counter object of word counts\n",
        "\n",
        "```python\n",
        "{('I', 'am'): {'Sam': 2, 'Adam': 1},\n",
        " ('Sam', 'I'): {'am': 4, 'will': 1}\n",
        "}\n",
        "```\n",
        "e.g.,\n",
        "- \"I am Sam\" occurs twice; \"I am Adam\" occurs once\n",
        "- \"Sam I am\" occurs 4 times; \"Sam I will\" occurs once\n",
        "\n",
        "We will then normalize each of the Counters:\n",
        "\n",
        "\n",
        "```python\n",
        "{('I', 'am'): {'Sam': 2/3, 'Adam': 1/3},\n",
        " ('Sam', 'I'): {'am': 4/5, 'will': 1/5}\n",
        "}\n",
        "```\n",
        "Thus, we have $k$ multinomial distributions, where $k$ is the number of unique keys (ngrams)  \n",
        "$ p(w_i | w_{i-1} w_{i-2} \\ldots w_{i-n}) $ for $i=1 $ to $ k$\n",
        "\n",
        "\n",
        "**Implementation notes: defaultdict**\n"
      ]
    },
    {
      "cell_type": "code",
      "execution_count": 11,
      "metadata": {
        "id": "5WNom7VJCzs0",
        "outputId": "685d9f4b-8abf-44cf-8f1c-3a97bcda8271",
        "colab": {
          "base_uri": "https://localhost:8080/"
        }
      },
      "outputs": [
        {
          "output_type": "execute_result",
          "data": {
            "text/plain": [
              "10"
            ]
          },
          "metadata": {},
          "execution_count": 11
        }
      ],
      "source": [
        "mydict = {('a','b','c'): 10}\n",
        "mydict[('a', 'b', 'c')]\n",
        "# n.b. tuples but not lists can be key of a dict. Why??"
      ]
    },
    {
      "cell_type": "code",
      "execution_count": 12,
      "metadata": {
        "id": "mAtG7H5YCzs1",
        "outputId": "7c97333a-5230-46f8-de1e-ef1191bbc4c4",
        "colab": {
          "base_uri": "https://localhost:8080/"
        }
      },
      "outputs": [
        {
          "output_type": "stream",
          "name": "stdout",
          "text": [
            "10\n",
            "100\n"
          ]
        }
      ],
      "source": [
        "from collections import defaultdict\n",
        "# dict with default values:\n",
        "mydict = defaultdict(lambda: 100)\n",
        "mydict['a'] = 10\n",
        "print(mydict['a'])\n",
        "print(mydict['b'])"
      ]
    },
    {
      "cell_type": "code",
      "execution_count": 13,
      "metadata": {
        "id": "V_H4ypKLCzs1",
        "outputId": "8506ef6a-f4e0-4de2-eb60-5586e074c954",
        "colab": {
          "base_uri": "https://localhost:8080/"
        }
      },
      "outputs": [
        {
          "output_type": "execute_result",
          "data": {
            "text/plain": [
              "[('b', 2), ('a', 1)]"
            ]
          },
          "metadata": {},
          "execution_count": 13
        }
      ],
      "source": [
        "# sorting tuples\n",
        "sorted([('a', 1), ('b', 2)], key=lambda x: -x[1])"
      ]
    },
    {
      "cell_type": "code",
      "execution_count": 14,
      "metadata": {
        "id": "r6EEvmSNCzs1",
        "outputId": "73d248fa-b52d-4648-f740-edb47af4623b",
        "colab": {
          "base_uri": "https://localhost:8080/"
        }
      },
      "outputs": [
        {
          "output_type": "stream",
          "name": "stdout",
          "text": [
            "counts=\n",
            " (('<s>', 'I'), Counter({'am': 1, 'do': 1}))\n",
            "(('I', 'am'), Counter({'Sam': 1, '</s>': 1}))\n",
            "(('am', 'Sam'), Counter({'</s>': 1}))\n",
            "(('<s>', 'Sam'), Counter({'I': 1}))\n",
            "(('Sam', 'I'), Counter({'am': 1}))\n",
            "(('I', 'do'), Counter({'not': 1}))\n",
            "(('do', 'not'), Counter({'like': 1}))\n",
            "(('not', 'like'), Counter({'green': 1}))\n",
            "(('like', 'green'), Counter({'eggs': 1}))\n",
            "(('green', 'eggs'), Counter({'and': 1}))\n",
            "(('eggs', 'and'), Counter({'ham': 1}))\n",
            "(('and', 'ham'), Counter({'</s>': 1}))\n"
          ]
        },
        {
          "output_type": "execute_result",
          "data": {
            "text/plain": [
              "defaultdict(<function __main__.estimate_ngram_probs.<locals>.<lambda>()>,\n",
              "            {('<s>', 'I'): {'am': 0.5, 'do': 0.5},\n",
              "             ('I', 'am'): {'Sam': 0.5, '</s>': 0.5},\n",
              "             ('am', 'Sam'): {'</s>': 1.0},\n",
              "             ('<s>', 'Sam'): {'I': 1.0},\n",
              "             ('Sam', 'I'): {'am': 1.0},\n",
              "             ('I', 'do'): {'not': 1.0},\n",
              "             ('do', 'not'): {'like': 1.0},\n",
              "             ('not', 'like'): {'green': 1.0},\n",
              "             ('like', 'green'): {'eggs': 1.0},\n",
              "             ('green', 'eggs'): {'and': 1.0},\n",
              "             ('eggs', 'and'): {'ham': 1.0},\n",
              "             ('and', 'ham'): {'</s>': 1.0}})"
            ]
          },
          "metadata": {},
          "execution_count": 14
        }
      ],
      "source": [
        "def estimate_ngram_probs(docs, n, verbose=True):\n",
        "    \"\"\"Compute p(w_i|w_i-1, w_i-2, ..., w_i-n), the probability of each ngram in this data.\n",
        "    = count(w_i-1, w_i-2, ..., w_i-n, w_i) / count(w_i-1, w_i-2, ..., w_i-n)\n",
        "\n",
        "    Params:\n",
        "      docs...list of strings\n",
        "      n......ngram size\"\"\"\n",
        "    # Count\n",
        "    counts = defaultdict(lambda: Counter())\n",
        "    for doc in docs:\n",
        "        for ngram in iter_ngrams(doc.split(), n):\n",
        "            counts[tuple(ngram[:-1])].update([ngram[-1]])\n",
        "\n",
        "    if verbose:\n",
        "        print('counts=\\n', '\\n'.join(str(i) for i in counts.items()))   # for debugging\n",
        "\n",
        "    # Normalize probabilities to sum to 1.0\n",
        "    for ngram, word_counts in counts.items():\n",
        "        total = sum(word_counts.values())\n",
        "        counts[ngram] = {word: count / total\n",
        "                         for word, count in word_counts.items()}\n",
        "    return counts\n",
        "\n",
        "sam_ngrams = estimate_ngram_probs(docs, 3)\n",
        "sam_ngrams"
      ]
    },
    {
      "cell_type": "code",
      "execution_count": 15,
      "metadata": {
        "id": "jNGubyuuCzs2",
        "outputId": "d23c5c94-3519-4e23-f8d9-4711f03c741f",
        "colab": {
          "base_uri": "https://localhost:8080/"
        }
      },
      "outputs": [
        {
          "output_type": "stream",
          "name": "stdout",
          "text": [
            "counts=\n",
            " (('<s>',), Counter({'I': 2, 'Sam': 1}))\n",
            "(('I',), Counter({'am': 2, 'do': 1}))\n",
            "(('am',), Counter({'Sam': 1, '</s>': 1}))\n",
            "(('Sam',), Counter({'</s>': 1, 'I': 1}))\n",
            "(('do',), Counter({'not': 1}))\n",
            "(('not',), Counter({'like': 1}))\n",
            "(('like',), Counter({'green': 1}))\n",
            "(('green',), Counter({'eggs': 1}))\n",
            "(('eggs',), Counter({'and': 1}))\n",
            "(('and',), Counter({'ham': 1}))\n",
            "(('ham',), Counter({'</s>': 1}))\n"
          ]
        },
        {
          "output_type": "execute_result",
          "data": {
            "text/plain": [
              "defaultdict(<function __main__.estimate_ngram_probs.<locals>.<lambda>()>,\n",
              "            {('<s>',): {'I': 0.6666666666666666, 'Sam': 0.3333333333333333},\n",
              "             ('I',): {'am': 0.6666666666666666, 'do': 0.3333333333333333},\n",
              "             ('am',): {'Sam': 0.5, '</s>': 0.5},\n",
              "             ('Sam',): {'</s>': 0.5, 'I': 0.5},\n",
              "             ('do',): {'not': 1.0},\n",
              "             ('not',): {'like': 1.0},\n",
              "             ('like',): {'green': 1.0},\n",
              "             ('green',): {'eggs': 1.0},\n",
              "             ('eggs',): {'and': 1.0},\n",
              "             ('and',): {'ham': 1.0},\n",
              "             ('ham',): {'</s>': 1.0}})"
            ]
          },
          "metadata": {},
          "execution_count": 15
        }
      ],
      "source": [
        "estimate_ngram_probs(docs, 2)"
      ]
    },
    {
      "cell_type": "code",
      "execution_count": 16,
      "metadata": {
        "id": "kmjBEx6wCzs2",
        "outputId": "619eaac5-1be5-433f-e4eb-471d1ef8428f",
        "colab": {
          "base_uri": "https://localhost:8080/"
        }
      },
      "outputs": [
        {
          "output_type": "execute_result",
          "data": {
            "text/plain": [
              "0.5"
            ]
          },
          "metadata": {},
          "execution_count": 16
        }
      ],
      "source": [
        "# Pr(Sam | \"I am\")\n",
        "sam_ngrams[('I', 'am')]['Sam']"
      ]
    },
    {
      "cell_type": "markdown",
      "source": [
        "### Probability of a sentence with n-grams"
      ],
      "metadata": {
        "id": "3LM5KSSAGl6N"
      }
    },
    {
      "cell_type": "markdown",
      "metadata": {
        "id": "fCUCiRWdCzs3"
      },
      "source": [
        "As before, we can compute the probability of a sentence by multiplying probabilities of all ngrams in the sentence.\n",
        "\n",
        "$$p(w_1 \\ldots w_m) = p(w_n|w_{n-1} \\ldots w_1) * p(w_{n+1}|w_{n} \\ldots w_2) * \\ldots * p(w_m|w_{m-1}\\ldots w_{m-n})$$\n",
        "\n",
        "e.g. for $n=2$\n",
        "\n",
        "$p($ &langle;s&rangle; Sam I am &langle;/s&rangle;$) = p($ Sam $\\mid $ &langle;s&rangle; $) * p($I $ \\mid $ Sam $) * p($ am $ \\mid $ I $) *  p($ &langle;/s&rangle; $ \\mid $ am $ ) $\n",
        "\n",
        "And equivalently in log space:\n",
        "\n",
        "$$\\log p(w_1 \\ldots w_m) = \\log p(w_n|w_{n-1} \\ldots w_1) + \\log p(w_{n+1}|w_{n} \\ldots w_2) + \\ldots + \\log p(w_m|w_{m-1} \\ldots w_{m-n})$$\n",
        "\n"
      ]
    },
    {
      "cell_type": "code",
      "execution_count": 17,
      "metadata": {
        "id": "8eoet0ZtCzs3",
        "outputId": "b5f0aab0-deaf-4dc3-f21f-3daa3ce9f256",
        "colab": {
          "base_uri": "https://localhost:8080/"
        }
      },
      "outputs": [
        {
          "output_type": "execute_result",
          "data": {
            "text/plain": [
              "[['<s>', 'Sam', 'I'], ['Sam', 'I', 'am'], ['I', 'am', '<s>']]"
            ]
          },
          "metadata": {},
          "execution_count": 17
        }
      ],
      "source": [
        "[x for x in iter_ngrams(['<s>', 'Sam', 'I', 'am', '<s>'], 3)]"
      ]
    },
    {
      "cell_type": "code",
      "execution_count": 18,
      "metadata": {
        "id": "oe18jxG0Czs4",
        "outputId": "ec79b1d5-8618-4180-a05d-5f38af8587ec",
        "colab": {
          "base_uri": "https://localhost:8080/"
        }
      },
      "outputs": [
        {
          "output_type": "stream",
          "name": "stdout",
          "text": [
            "Pr(I|['<s>', 'Sam'])=0\n",
            "Pr(am|['Sam', 'I'])=0\n",
            "Pr(</s>|['I', 'am'])=-0.30103\n"
          ]
        },
        {
          "output_type": "execute_result",
          "data": {
            "text/plain": [
              "-0.3010299956639812"
            ]
          },
          "metadata": {},
          "execution_count": 18
        }
      ],
      "source": [
        "def sentence_log_probability_ngrams(ngrams, sentence, n):\n",
        "    proba = 0\n",
        "    # loop through all ngrams\n",
        "    for ngram in iter_ngrams(sentence, n):\n",
        "        # e.g., ngram = ['Sam', 'I', 'am']\n",
        "        #      prefix = ['Sam', 'I']\n",
        "        #        word = 'am'f\n",
        "        prefix = ngram[:-1]\n",
        "        word = ngram[-1]\n",
        "        # P(wi | ngram)\n",
        "        this_prob = math.log10(ngrams[tuple(prefix)][word])\n",
        "        print('Pr(%s|%s)=%g' % (word, prefix, this_prob))\n",
        "        proba += this_prob\n",
        "    return proba\n",
        "\n",
        "sentence_log_probability_ngrams(sam_ngrams, ['<s>', 'Sam', 'I', 'am', '</s>'], 3)"
      ]
    },
    {
      "cell_type": "markdown",
      "source": [
        "<hr size=10 color=#285C4D>\n",
        "\n",
        "## Example: Modeling Donald Trump's Tweets"
      ],
      "metadata": {
        "id": "r8eb9WTyGvl1"
      }
    },
    {
      "cell_type": "markdown",
      "metadata": {
        "id": "zkJqIvIRCzs4"
      },
      "source": [
        "Let's download a sample of Donald Trump's tweets and fit an n-gram language model!"
      ]
    },
    {
      "cell_type": "code",
      "source": [
        "# download pre-processed data here.\n",
        "!wget \"https://github.com/tulane-cmps6730/main/raw/refs/heads/main/lec/language_models/tweets.txt\""
      ],
      "metadata": {
        "colab": {
          "base_uri": "https://localhost:8080/"
        },
        "id": "UaT_1gW2HEXh",
        "outputId": "1c068b87-bdfa-44eb-dc2a-db2f29259e6d"
      },
      "execution_count": 19,
      "outputs": [
        {
          "output_type": "stream",
          "name": "stdout",
          "text": [
            "--2025-02-04 02:51:39--  https://github.com/tulane-cmps6730/main/raw/refs/heads/main/lec/language_models/tweets.txt\n",
            "Resolving github.com (github.com)... 140.82.112.4\n",
            "Connecting to github.com (github.com)|140.82.112.4|:443... connected.\n",
            "HTTP request sent, awaiting response... 302 Found\n",
            "Location: https://raw.githubusercontent.com/tulane-cmps6730/main/refs/heads/main/lec/language_models/tweets.txt [following]\n",
            "--2025-02-04 02:51:39--  https://raw.githubusercontent.com/tulane-cmps6730/main/refs/heads/main/lec/language_models/tweets.txt\n",
            "Resolving raw.githubusercontent.com (raw.githubusercontent.com)... 185.199.108.133, 185.199.110.133, 185.199.111.133, ...\n",
            "Connecting to raw.githubusercontent.com (raw.githubusercontent.com)|185.199.108.133|:443... connected.\n",
            "HTTP request sent, awaiting response... 200 OK\n",
            "Length: 348408 (340K) [text/plain]\n",
            "Saving to: ‘tweets.txt’\n",
            "\n",
            "tweets.txt          100%[===================>] 340.24K  --.-KB/s    in 0.04s   \n",
            "\n",
            "2025-02-04 02:51:39 (7.80 MB/s) - ‘tweets.txt’ saved [348408/348408]\n",
            "\n"
          ]
        }
      ]
    },
    {
      "cell_type": "code",
      "execution_count": 20,
      "metadata": {
        "id": "M1QOGAWwCzs4",
        "outputId": "7cc1bdd0-f9a8-4053-e527-5bd67f4314db",
        "colab": {
          "base_uri": "https://localhost:8080/"
        }
      },
      "outputs": [
        {
          "output_type": "stream",
          "name": "stdout",
          "text": [
            "<s> busy week planned with a heavy focus on jobs and national security top executives coming in at 9 00 a m to talk manufacturing in america </s>\n",
            "<s> peaceful protests are a hallmark of our democracy even if i don t always agree i recognize the rights of people to express their views </s>\n",
            "<s> wow television ratings just out 31 million people watched the inauguration 11 million more than the very good ratings from 4 years ago </s>\n",
            "<s> watched protests yesterday but was under the impression that we just had an election why didn t these people vote celebs hurt cause badly </s>\n",
            "<s> had a great meeting at cia headquarters yesterday packed house paid great respect to wall long standing ovations amazing people win </s>\n",
            "<s> rt whitehouse do not allow anyone to tell you that it cannot be done no challenge can match the heart and fight and spirit of america </s>\n",
            "<s> a fantastic day and evening in washington d c thank you to foxnews and so many other news outlets for the great reviews of the speech </s>\n",
            "<s> thank you for another wonderful evening in washington d c together we will make america great again </s>\n",
            "<s> to all americans n </s>\n",
            "<s> so to all americans in every city near and far small and large from mountain to mountain </s>\n"
          ]
        }
      ],
      "source": [
        "!head tweets.txt"
      ]
    },
    {
      "cell_type": "code",
      "execution_count": 21,
      "metadata": {
        "id": "uNshkdF8Czs4",
        "outputId": "dacdccf6-0044-49cb-c725-dabad9f7306c",
        "colab": {
          "base_uri": "https://localhost:8080/"
        }
      },
      "outputs": [
        {
          "output_type": "stream",
          "name": "stdout",
          "text": [
            "read 3200 tweets from Donald J. Trump (@realDonaldTrump)\n",
            "<s> busy week planned with a heavy focus on jobs and national security top executives coming in at 9 00 a m to talk manufacturing in america </s>\n",
            "\n"
          ]
        }
      ],
      "source": [
        "trump_tweets = open('tweets.txt').readlines()\n",
        "print('read %d tweets from Donald J. Trump (@realDonaldTrump)' % len(trump_tweets))\n",
        "print(trump_tweets[0])"
      ]
    },
    {
      "cell_type": "code",
      "execution_count": 22,
      "metadata": {
        "id": "goGUCAtiCzs5"
      },
      "outputs": [],
      "source": [
        "trump_ngrams = estimate_ngram_probs(trump_tweets, 3, verbose=False)"
      ]
    },
    {
      "cell_type": "code",
      "execution_count": 23,
      "metadata": {
        "id": "BVCR3FmYCzs5",
        "outputId": "5460dd0f-c397-4d59-dd2f-8f8730f67e00",
        "colab": {
          "base_uri": "https://localhost:8080/"
        }
      },
      "outputs": [
        {
          "output_type": "execute_result",
          "data": {
            "text/plain": [
              "[('so', 0.11764705882352941),\n",
              " ('fake', 0.058823529411764705),\n",
              " ('covering', 0.058823529411764705),\n",
              " ('protecting', 0.058823529411764705),\n",
              " ('going', 0.058823529411764705),\n",
              " ('against', 0.058823529411764705),\n",
              " ('fawning', 0.058823529411764705),\n",
              " ('spending', 0.058823529411764705),\n",
              " ('trying', 0.058823529411764705),\n",
              " ('unrelenting', 0.058823529411764705),\n",
              " ('very', 0.058823529411764705),\n",
              " ('talking', 0.058823529411764705),\n",
              " ('on', 0.058823529411764705),\n",
              " ('really', 0.058823529411764705),\n",
              " ('totally', 0.058823529411764705),\n",
              " ('corrupt', 0.058823529411764705)]"
            ]
          },
          "metadata": {},
          "execution_count": 23
        }
      ],
      "source": [
        "# What does Trump think about the media?\n",
        "sorted(trump_ngrams[('media', 'is')].items(), key=lambda x: -x[1])"
      ]
    },
    {
      "cell_type": "code",
      "execution_count": 24,
      "metadata": {
        "id": "tWR5CKasCzs5",
        "outputId": "52ba9d39-e53d-4789-85a4-999edbb5b984",
        "colab": {
          "base_uri": "https://localhost:8080/"
        }
      },
      "outputs": [
        {
          "output_type": "execute_result",
          "data": {
            "text/plain": [
              "[('a', 0.10714285714285714),\n",
              " ('not', 0.10714285714285714),\n",
              " ('being', 0.07142857142857142),\n",
              " ('unfit', 0.07142857142857142),\n",
              " ('down', 0.03571428571428571),\n",
              " ('right', 0.03571428571428571),\n",
              " ('weak', 0.03571428571428571),\n",
              " ('out', 0.03571428571428571),\n",
              " ('the', 0.03571428571428571),\n",
              " ('taking', 0.03571428571428571),\n",
              " ('using', 0.03571428571428571),\n",
              " ('100', 0.03571428571428571),\n",
              " ('soft', 0.03571428571428571),\n",
              " ('bought', 0.03571428571428571),\n",
              " ('like', 0.03571428571428571),\n",
              " ('answering', 0.03571428571428571),\n",
              " ('guilty', 0.03571428571428571),\n",
              " ('trying', 0.03571428571428571),\n",
              " ('consulting', 0.03571428571428571),\n",
              " ('totally', 0.03571428571428571),\n",
              " ('spending', 0.03571428571428571),\n",
              " ('unqualified', 0.03571428571428571)]"
            ]
          },
          "metadata": {},
          "execution_count": 24
        }
      ],
      "source": [
        "# What does Trump think about the Hillary Clinton?\n",
        "sorted(trump_ngrams[('clinton', 'is')].items(), key=lambda x: -x[1])"
      ]
    },
    {
      "cell_type": "markdown",
      "source": [
        "<hr size=10 color=#285C4D>\n",
        "\n",
        "## Sampling from ngram language models\n"
      ],
      "metadata": {
        "id": "ppDb9kEJHW17"
      }
    },
    {
      "cell_type": "markdown",
      "metadata": {
        "id": "uQnAbS35Czs-"
      },
      "source": [
        "\n",
        "Given probabilities $p(w_i | w_{i-1} w_{i-2} \\ldots w_{i-n})$ $\\forall i$, how can we sample sentences?\n",
        "\n",
        "\n",
        "<br><br><br><br>\n",
        "1. Sample an ngram $(w_1\\ldots w_n)$ where $w_1 = $ &langle;s&rangle;\n",
        "2. Sample an additional word from $p(w_i | w_{i-1} w_{i-2} \\ldots w_{i-n})$\n",
        "3. Loop until sample &langle;/s&rangle;"
      ]
    },
    {
      "cell_type": "code",
      "execution_count": 25,
      "metadata": {
        "id": "dQOoW3OwCzs-",
        "outputId": "b3ac1159-d171-43d5-e17c-90346035905e",
        "colab": {
          "base_uri": "https://localhost:8080/"
        }
      },
      "outputs": [
        {
          "output_type": "execute_result",
          "data": {
            "text/plain": [
              "['a']"
            ]
          },
          "metadata": {},
          "execution_count": 25
        }
      ],
      "source": [
        "import random\n",
        "# Sampling uniformly from a list.\n",
        "random.sample(['a', 'b', 'c'], k=1)"
      ]
    },
    {
      "cell_type": "code",
      "execution_count": 26,
      "metadata": {
        "id": "tLfcCFBLCzs-",
        "outputId": "9793217c-d93d-4792-d6e7-4b33d45c217a",
        "colab": {
          "base_uri": "https://localhost:8080/"
        }
      },
      "outputs": [
        {
          "output_type": "execute_result",
          "data": {
            "text/plain": [
              "array(['a', 'c', 'a', 'a', 'a', 'a', 'a', 'a', 'a', 'a'], dtype='<U1')"
            ]
          },
          "metadata": {},
          "execution_count": 26
        }
      ],
      "source": [
        "# Sampling from a multinomial distribution\n",
        "np.random.choice(['a', 'b', 'c'], size=10, p=[.7, .2, .1])"
      ]
    },
    {
      "cell_type": "markdown",
      "source": [
        "### Sample from our Trump language model"
      ],
      "metadata": {
        "id": "Ruo9psJOHgbK"
      }
    },
    {
      "cell_type": "code",
      "execution_count": 27,
      "metadata": {
        "id": "cMbaVrChCzs_",
        "outputId": "03ee8a22-acdf-4ffc-cd14-86e00be935fb",
        "colab": {
          "base_uri": "https://localhost:8080/"
        }
      },
      "outputs": [
        {
          "output_type": "stream",
          "name": "stdout",
          "text": [
            "<s> borisep was great last night by tim kaine is just talking bull </s>\n",
            "<s> lindseygrahamsc and lyin ted </s>\n",
            "<s> zulu_out you are a man for the use of air and calling the next president </s>\n",
            "<s> terrorism immigration and not waste his time will come </s>\n",
            "<s> report raises questions about her husband signed nafta </s>\n",
            "<s> rexnord of indiana and the whole country </s>\n",
            "<s> joedefranco top rino hack for msnbc joey scarborough on the campaign trail with crooked hillary s negative ads are not happy with all of\n",
            "<s> facethenation tune in at 9 00 a m this morning for an 8pme rally americafirst maga ntickets </s>\n",
            "<s> honor memorial day </s>\n",
            "<s> sprts08 realdonaldtrump foxandfriends great interview on foxandfriends at 7 02 a m </s>\n",
            "<s> utahcaucus message from ivankatrump utcaucus n makeamericagreatagain trump2016 n makeamericagreatagain n </s>\n",
            "<s> nathandwilsonfl mariabartiromo you had a great show </s>\n",
            "<s> realericjallen realdonaldtrump is who we need strong border amp wall street </s>\n",
            "<s> republicans must be smart tough and vigilant great hate and sickness </s>\n",
            "<s> sprts08 realdonaldtrump foxandfriends great interview all solid points on our soon to talk isis b c hillary s wars in the morning at least\n",
            "<s> ravenrantz billygraham s grand daughter supportstrump so nice great americans </s>\n",
            "<s> sorry folks but bernie sanders is being reported by virtually everyone and is losing votes in wisconsin with gov pence tomorrow join me in\n",
            "<s> sorry folks but bernie sanders is being rigged by the spluttering hysteria on tv about realdonaldtrump </s>\n",
            "<s> tzard000 realdonaldtrump nytimes everyone continues to subvert the will amp the gang off the stage he has to be president women4ttump trump2016 </s>\n",
            "<s> word is early voting in fl oh pa mi ga tx nm in la with rifles near gay parade </s>\n",
            "<s> prisonplanet trump accuser praised him in the middle east </s>\n",
            "<s> appreciate the congrats for being the great state of louisiana for the 2a to our democracy even if it will change </s>\n",
            "<s> looking forward to meeting w paul ryan said that if within the african american workers </s>\n",
            "<s> meet the press refuses to write making up phony facts too bad bernie flamed out </s>\n",
            "<s> lyin ted cruz who has made so many things i am returning to the contrary top adv </s>\n",
            "<s> slaughter you pigs i swear we will have a country if we don t have a government of by and for our country will\n",
            "<s> adriparsonss the_trump_train realdonaldtrump donald trump the disrupter will air on foxnews from wisconsin just made up facts by sleazebag political operatives both democrats and\n",
            "<s> coming up genflynn newtgingrich on foxandfriends saying times lied </s>\n",
            "<s> meet the amazing law enforcement we are going to be v p choice is very much forward to it should be fun </s>\n",
            "<s> zhu_amy3 realdonaldtrump it s this simple make america safe and great a </s>\n",
            "<s> davidgregory got thrown off of me </s>\n",
            "<s> gstephanopoulos what s with our immigration officers n amp our wage earners hillary clinton s dishonesty and scandals n </s>\n",
            "<s> congratulation to jane timken on her show and she blessed </s>\n",
            "<s> bayer ag has pledged to add u s is 7 533 692 a knock but she had one opponent instead of sixteen broke record\n",
            "<s> youngdems4trump thank you to the supreme court justices </s>\n",
            "<s> word is that my taxes are under routine audit and i m elected president sound familiar wp </s>\n",
            "<s> pocahontas is at it again he is doing a fantastic job will be there soon the polls are now at and get wages up\n",
            "<s> donaldjtrumpjr company gouging price of epipens is a general news conference what is going on </s>\n",
            "<s> kathyceurter realdonaldtrump please oh please take the charlotte nc speech across the border to show the massive cost reductions i have raised between 5\n",
            "<s> bayer ag has pledged to add u s jobs are being crafted which take me completely out of business operations the presidency the new\n"
          ]
        }
      ],
      "source": [
        "# A simple TrumpBot\n",
        "import random\n",
        "\n",
        "def generate_sentences(ngrams, k):\n",
        "    \"\"\"Sample k sentences from given ngram model.\n",
        "    Params:\n",
        "      ngrams....ngram language model; a dict from ngram tuple to a dict\n",
        "      k.........number of sentences to sample\n",
        "    \"\"\"\n",
        "    # List of all ngrams that start with <s>\n",
        "    start_ngrams = [ngram for ngram in ngrams if ngram[0] == '<s>']\n",
        "    for i in range(k):  # sample k sentences.\n",
        "        # sample uniformly from all start ngrams.\n",
        "        ngram = random.sample(start_ngrams, 1)[0]\n",
        "        sentence = []\n",
        "        sentence.extend(ngram)\n",
        "        while sentence[-1] != '</s>' and len(sentence) < 25:  # while not at end of sentence.\n",
        "            # sample the next word\n",
        "            sampled_word = np.random.choice(list(ngrams[ngram].keys()),      # words\n",
        "                                            p=list(ngrams[ngram].values()),  # probabilities\n",
        "                                            size=1)[0]\n",
        "            sentence.append(sampled_word)\n",
        "            # update most recent ngram\n",
        "            ngram = tuple(list(ngram[-1:]) + [sampled_word])\n",
        "        print(' '.join(sentence))\n",
        "\n",
        "generate_sentences(trump_ngrams, 40)"
      ]
    },
    {
      "cell_type": "markdown",
      "metadata": {
        "id": "6MCFKZtrCzs_"
      },
      "source": [
        "Bot or Human? (Trump Turing Test)  \n",
        "> mexico has lost so badly i will make america great again  \n",
        "> rupert murdoch is a failed spy afraid of being sued  \n",
        "> rupert murdoch is a small one pathetic  \n",
        "> karlrove is a borderless world where working people have no doubt  \n",
        "> democrats are in my life fakenews  \n",
        "> bill clinton and the build up of russian nukes not good  \n",
        "> of course there is nothing more than the very average scream\n"
      ]
    },
    {
      "cell_type": "markdown",
      "source": [
        "<hr size=10 color=#285C4D>\n",
        "\n",
        "## Smoothing"
      ],
      "metadata": {
        "id": "dS3r307HHoHZ"
      }
    },
    {
      "cell_type": "markdown",
      "metadata": {
        "id": "-BY-E9E8Czs_"
      },
      "source": [
        "**A problem with our approach so far...**\n",
        "\n",
        "```python\n",
        "sorted(trump_ngrams[('media', 'is')].items(), key=lambda x: -x[1])\n",
        "\n",
        "[('so', 0.11764705882352941),\n",
        " ('fake', 0.058823529411764705),\n",
        " ('covering', 0.058823529411764705),\n",
        " ('protecting', 0.058823529411764705),\n",
        " ('going', 0.058823529411764705),\n",
        " ('against', 0.058823529411764705),\n",
        " ('fawning', 0.058823529411764705),\n",
        " ('spending', 0.058823529411764705),\n",
        " ('trying', 0.058823529411764705),\n",
        " ('unrelenting', 0.058823529411764705),\n",
        " ('very', 0.058823529411764705),\n",
        " ('talking', 0.058823529411764705),\n",
        " ('on', 0.058823529411764705),\n",
        " ('really', 0.058823529411764705),\n",
        " ('totally', 0.058823529411764705),\n",
        " ('corrupt', 0.058823529411764705)]\n",
        "```\n",
        "\n",
        "What is\n",
        "$P($ \"terrible\" $ | $ \"media is\" $)$?\n",
        "\n",
        "<br><br><br>"
      ]
    },
    {
      "cell_type": "code",
      "execution_count": 28,
      "metadata": {
        "id": "-FCMobxiCzs_",
        "outputId": "ca39d681-633f-4dd2-8752-1f0ea8681dbf",
        "colab": {
          "base_uri": "https://localhost:8080/"
        }
      },
      "outputs": [
        {
          "output_type": "stream",
          "name": "stdout",
          "text": [
            "Traceback (most recent call last):\n",
            "  File \"<ipython-input-28-1605c8e5d5cf>\", line 2, in <cell line: 0>\n",
            "    trump_ngrams[('media', 'is')]['terrible']\n",
            "    ~~~~~~~~~~~~~~~~~~~~~~~~~~~~~^^^^^^^^^^^^\n",
            "KeyError: 'terrible'\n",
            "\n"
          ]
        }
      ],
      "source": [
        "try:\n",
        "  trump_ngrams[('media', 'is')]['terrible']\n",
        "except Exception as e:\n",
        "  import traceback\n",
        "  print(traceback.format_exc())"
      ]
    },
    {
      "cell_type": "markdown",
      "source": [
        "### The problem with zero"
      ],
      "metadata": {
        "id": "NkcFeA-vI0Ei"
      }
    },
    {
      "cell_type": "markdown",
      "metadata": {
        "id": "KfXBgkwFCzs_"
      },
      "source": [
        "- Events that do not occur in the input data are assigned probability 0\n",
        "- We are underestimating events that we have not seen\n",
        "  - $P($\" terrible\" $ | $ \"media is\" $) > 0$\n",
        "- We assign zero probability to sentences that contain any 0 probability event\n",
        "  - $P($\"the media is terrible\"$) = 0$"
      ]
    },
    {
      "cell_type": "code",
      "execution_count": 29,
      "metadata": {
        "id": "1JWFqqARCztA",
        "outputId": "a740096d-b7a1-48d7-9557-6f4951a8b620",
        "colab": {
          "base_uri": "https://localhost:8080/"
        }
      },
      "outputs": [
        {
          "output_type": "stream",
          "name": "stdout",
          "text": [
            "Pr(media|['<s>', 'the'])=-1.18392\n",
            "Pr(is|['the', 'media'])=-0.544068\n",
            "Traceback (most recent call last):\n",
            "  File \"<ipython-input-29-659a28da32df>\", line 2, in <cell line: 0>\n",
            "    sentence_log_probability_ngrams(trump_ngrams, ['<s>', 'the', 'media', 'is', 'terrible', '</s>'], 3)\n",
            "  File \"<ipython-input-18-e449e8d0542f>\", line 11, in sentence_log_probability_ngrams\n",
            "    this_prob = math.log10(ngrams[tuple(prefix)][word])\n",
            "                           ~~~~~~~~~~~~~~~~~~~~~^^^^^^\n",
            "KeyError: 'terrible'\n",
            "\n"
          ]
        }
      ],
      "source": [
        "try:\n",
        "  sentence_log_probability_ngrams(trump_ngrams, ['<s>', 'the', 'media', 'is', 'terrible', '</s>'], 3)\n",
        "except Exception as e:\n",
        "  import traceback\n",
        "  print(traceback.format_exc())"
      ]
    },
    {
      "cell_type": "markdown",
      "source": [
        "### Smoothing n-grams"
      ],
      "metadata": {
        "id": "is4sid6XI9_E"
      }
    },
    {
      "cell_type": "markdown",
      "metadata": {
        "id": "D12jqNcACztA"
      },
      "source": [
        "- Reserve some probability mass for event we have not seen.\n",
        "\n",
        "- Let $V$ be the number of unique words in our vocabulary.\n",
        "\n",
        "- Recall unigram estimates:\n",
        "\n",
        "$$ p(w_i) = \\frac{C(w_i)}{T} $$\n",
        "  - $C(w_i)=$ number of times word $w_i$ appears in data\n",
        "  - $T=$ number of tokens in data\n",
        "  \n",
        "**Laplacian smoothing**\n",
        "\n",
        "- Add one to the numerator\n",
        "- Add $V$ to denominator to ensure probabilities sum to 1.\n",
        "- Equivalently: pretend we saw every word in the vocabulary one additional time each\n",
        "\n",
        "$$ p(w_i) = \\frac{C(w_i) + 1}{T + V} $$\n",
        "\n",
        "\n",
        "**Add-k smoothing**\n",
        "\n",
        "- More generally we can add a fraction to the numerator to control how much smoothing we want\n",
        "- typically $0 < k \\le 1$\n",
        "- Equivalently: pretend we saw every word in the vocabulary $k$ additional times.\n",
        "\n",
        "$$ p(w_i) = \\frac{C(w_i) + k}{T + kV} $$\n",
        "\n",
        "\n",
        "Similarly, we can smooth ngram estimates. E.g., bigrams:\n",
        "\n",
        "$$ p(w_i | w_{i-1}) = \\frac{C(w_{i-1}w_i) + k}{C(w_{i-1}) + kV}$$\n",
        "\n",
        "\n",
        "\n",
        "\n"
      ]
    },
    {
      "cell_type": "code",
      "execution_count": null,
      "metadata": {
        "id": "3DjM4dWjCztA",
        "outputId": "9380b7ed-6f36-485d-a7f2-4588d32b43fe"
      },
      "outputs": [
        {
          "data": {
            "text/plain": [
              "[('<s>', 0.125),\n",
              " ('I', 0.125),\n",
              " ('</s>', 0.125),\n",
              " ('am', 0.09375),\n",
              " ('Sam', 0.09375),\n",
              " ('do', 0.0625),\n",
              " ('not', 0.0625),\n",
              " ('like', 0.0625),\n",
              " ('green', 0.0625),\n",
              " ('eggs', 0.0625),\n",
              " ('and', 0.0625),\n",
              " ('ham', 0.0625)]"
            ]
          },
          "execution_count": 49,
          "metadata": {},
          "output_type": "execute_result"
        }
      ],
      "source": [
        "def estimate_unigram_probs_add_k(docs, k):\n",
        "    \"\"\"\n",
        "    Compute p(w), the add-k smoothed probability of each unigram in this data.\n",
        "    p(w) = (count(w) + k) / (total_num_tokens + total_num_types * k)\n",
        "    \"\"\"\n",
        "    counts = Counter()\n",
        "    for doc in docs:\n",
        "        tokens = doc.split()   # split sentence into words using spaces\n",
        "        counts.update(tokens)  # increments counts for all items in tokens\n",
        "    # Normalize so probabilities sum to 1.\n",
        "    total_tokens = sum(counts.values())\n",
        "    total_types = len(counts)\n",
        "    denom = total_tokens + k * total_types\n",
        "    return {token: (value + k) / denom for token, value in counts.items()}\n",
        "\n",
        "addk_unigram_probs = estimate_unigram_probs_add_k(docs, 1)\n",
        "# print in descending order.\n",
        "sorted(addk_unigram_probs.items(), key=lambda x: x[1], reverse=True)"
      ]
    },
    {
      "cell_type": "code",
      "execution_count": null,
      "metadata": {
        "id": "veTWxJiRCztB",
        "outputId": "fe0a3735-edaa-44fe-ad87-31714cb50748"
      },
      "outputs": [
        {
          "data": {
            "text/plain": [
              "[('<s>', 0.15),\n",
              " ('I', 0.15),\n",
              " ('</s>', 0.15),\n",
              " ('am', 0.1),\n",
              " ('Sam', 0.1),\n",
              " ('do', 0.05),\n",
              " ('not', 0.05),\n",
              " ('like', 0.05),\n",
              " ('green', 0.05),\n",
              " ('eggs', 0.05),\n",
              " ('and', 0.05),\n",
              " ('ham', 0.05)]"
            ]
          },
          "execution_count": 52,
          "metadata": {},
          "output_type": "execute_result"
        }
      ],
      "source": [
        "# compare to unsmoothed estimates\n",
        "sorted(unigram_probs.items(), key=lambda x: x[1], reverse=True)"
      ]
    },
    {
      "cell_type": "code",
      "execution_count": null,
      "metadata": {
        "id": "lXVdvBKjCztB",
        "outputId": "10b78e20-c87e-4a56-e33e-12c6a2abcc64"
      },
      "outputs": [
        {
          "data": {
            "image/png": "[encoded data removed]",
            "text/plain": [
              "<Figure size 1200x600 with 1 Axes>"
            ]
          },
          "metadata": {},
          "output_type": "display_data"
        }
      ],
      "source": [
        "# How do probability estimates change as k increases?\n",
        "plt.figure()\n",
        "ks = [0, .01, .1, .5, .9, 1, 2, 5]\n",
        "i_probs = []\n",
        "ham_probs = []\n",
        "for k in ks:\n",
        "    probs = estimate_unigram_probs_add_k(docs, k)\n",
        "    i_probs.append(probs['I'])\n",
        "    ham_probs.append(probs['ham'])\n",
        "plt.plot(ks, i_probs, 'bo-', label='p(I)')\n",
        "plt.plot(ks, ham_probs, 'go-', label='p(ham)')\n",
        "plt.xlabel('k', size=20)\n",
        "plt.ylabel('probability', size=20)\n",
        "plt.legend(loc='best', fontsize=20)\n",
        "plt.show()"
      ]
    },
    {
      "cell_type": "markdown",
      "metadata": {
        "id": "BDeWOdgNCztB"
      },
      "source": [
        "- We can see that the probabilities get more \"smooth\"; i.e., closer together.\n",
        "- Smoothing \"steals\" probability mass from high probability events, and gives it to the low probability events\n",
        "\n",
        "![figs/robin.jpg](https://github.com/tulane-cmps6730/main/blob/main/lec/language_models/figs/robin.jpg?raw=1)\n"
      ]
    },
    {
      "cell_type": "markdown",
      "source": [
        "<hr size=10 color=#285C4D>\n",
        "\n",
        "## Interpolation"
      ],
      "metadata": {
        "id": "_GYiHTsBJMMe"
      }
    },
    {
      "cell_type": "markdown",
      "metadata": {
        "id": "YKLB_624CztB"
      },
      "source": [
        "**Problems with add-k smoothing**\n",
        "\n",
        "Adjustments are often too large\n",
        "  - rare events made too probable\n",
        "  - common events made too improbable\n",
        "  - For ngrams, wastes a lot of probability mass on nonsense ngrams\n",
        "    - E.g., for trigrams:\n",
        "    $$ p(w_i | w_{i-2} w_{i-1}) = \\frac{C(w_{i-2}w_{i-3}w_i) + k}{C(w_{i-2}w_{i-1}) + kV}$$\n",
        "\n",
        "    - Smoothing adds \"simulated\" counts for trigrams like \"walk the the\" and \"I am do\"\n",
        "    \n",
        "<br><br><br>"
      ]
    },
    {
      "cell_type": "markdown",
      "metadata": {
        "id": "M2LgIHucCztB"
      },
      "source": [
        "**Interpolation idea**\n",
        "\n",
        "- As ngram size increases, we observe fewer examples to estimate the probabilities\n",
        "- **Idea**: use a combination of smaller ngrams to estimate probabilities of larger ngrams\n",
        "\n",
        "$$\\hat{P}(w_i|w_{i-2}w_{i-1}) = \\lambda_1 P(w_i|w_{i-2}w_{i-1}) + \\lambda_2 P(w_i|w_{i-1}) + \\lambda_3 P(w_i)$$\n",
        "\n",
        "- $\\sum_i \\lambda_i = 1$\n",
        "- If trigram probability is 0, will still have nonzero probability for bigrams or unigrams\n",
        "- Assumes we have a **closed vocabulary** (i.e., we know of all possible unigrams)\n",
        "\n",
        "<br>\n",
        "\n",
        "- $\\lambda$'s determine relative weight of trigrams/bigrams/unigrams\n",
        "- Typically set with some held-out validation dataset.\n",
        "\n",
        "\n"
      ]
    },
    {
      "cell_type": "markdown",
      "metadata": {
        "id": "mfGPi5CMCztC"
      },
      "source": [
        "- Many other smoothing approaches exist.\n",
        "- In practice, smoothing most important for small datasets.\n",
        "- If you have access to web-scale data, rare events can often be estimated well without much smoothing."
      ]
    },
    {
      "cell_type": "markdown",
      "source": [
        "<hr size=10 color=#285C4D>\n",
        "\n",
        "## Summary"
      ],
      "metadata": {
        "id": "XcXe7l4cJYGw"
      }
    },
    {
      "cell_type": "markdown",
      "metadata": {
        "id": "TTTn4cs9CztC"
      },
      "source": [
        "- Given a sample of documents $D$, we can estimate probabilities of ngrams.\n",
        "- The probability of a sentence is then the product of the probabilities of the ngrams it contains.\n",
        "- Smoothing and interpolation are two ways of dealing with difficulties of estimating rare events from a finite sample."
      ]
    },
    {
      "cell_type": "markdown",
      "source": [
        "<hr size=10 color=#285C4D>\n",
        "\n",
        "## Group Task"
      ],
      "metadata": {
        "id": "cv7JcGdPQjfu"
      }
    },
    {
      "cell_type": "markdown",
      "source": [
        "We fit an n-gram model to Trump's tweets with this line above:\n",
        "\n",
        "```python\n",
        "trump_ngrams = estimate_ngram_probs(trump_tweets, 3, verbose=False)\n",
        "```\n",
        "\n",
        "Vary `n` from 1 to 5 and generate samples from each model.\n",
        "Which setting do you like the most? Why?\n",
        "\n",
        "Enter your text response in the corresponding exercise in Canvas."
      ],
      "metadata": {
        "id": "0Xde9nR0Qpmr"
      }
    },
    {
      "cell_type": "markdown",
      "metadata": {
        "id": "Z1jQhKweCztC"
      },
      "source": [
        "<hr size=10 color=#285C4D>\n",
        "\n",
        "\n",
        "## Image sources\n"
      ]
    },
    {
      "cell_type": "markdown",
      "source": [
        "\n",
        "- https://www.cs.colorado.edu/~martin/SLP/"
      ],
      "metadata": {
        "id": "eoyptW8kJebp"
      }
    }
  ],
  "metadata": {
    "kernelspec": {
      "display_name": "Python 3 (ipykernel)",
      "language": "python",
      "name": "python3"
    },
    "language_info": {
      "codemirror_mode": {
        "name": "ipython",
        "version": 3
      },
      "file_extension": ".py",
      "mimetype": "text/x-python",
      "name": "python",
      "nbconvert_exporter": "python",
      "pygments_lexer": "ipython3",
      "version": "3.11.5"
    },
    "colab": {
      "provenance": [],
      "collapsed_sections": [
        "UVHR1CIAEAXH",
        "eZ1Lj8DLEK0Z",
        "TIYyIHPQEVgG",
        "i__QoJJkEegf",
        "oWo1rmtgEoaI",
        "H2TcK45lE4rS",
        "vDxHufGmCzsw",
        "tVyFe8ocFcXE",
        "6vquS4VOFrPv",
        "r8eb9WTyGvl1",
        "ppDb9kEJHW17",
        "dS3r307HHoHZ",
        "NkcFeA-vI0Ei",
        "_GYiHTsBJMMe",
        "XcXe7l4cJYGw",
        "cv7JcGdPQjfu",
        "Z1jQhKweCztC"
      ],
      "toc_visible": true
    }
  },
  "nbformat": 4,
  "nbformat_minor": 0
}